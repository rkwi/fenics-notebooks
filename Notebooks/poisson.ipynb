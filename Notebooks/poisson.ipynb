{
  "nbformat": 4,
  "nbformat_minor": 0,
  "metadata": {
    "colab": {
      "name": "poisson.ipynb",
      "version": "0.3.2",
      "provenance": [],
      "collapsed_sections": [],
      "include_colab_link": true
    },
    "kernelspec": {
      "name": "python3",
      "display_name": "Python 3"
    }
  },
  "cells": [
    {
      "cell_type": "markdown",
      "metadata": {
        "id": "view-in-github",
        "colab_type": "text"
      },
      "source": [
        "<a href=\"https://colab.research.google.com/github/stoiver/fenics-notebooks/blob/master/Notebooks/poisson.ipynb\" target=\"_parent\"><img src=\"https://colab.research.google.com/assets/colab-badge.svg\" alt=\"Open In Colab\"/></a>"
      ]
    },
    {
      "metadata": {
        "id": "r0du7IXIS-hS",
        "colab_type": "text"
      },
      "cell_type": "markdown",
      "source": [
        "Install the FEniCS code"
      ]
    },
    {
      "metadata": {
        "id": "GDm57xjhDw42",
        "colab_type": "code",
        "colab": {}
      },
      "cell_type": "code",
      "source": [
        "from google.colab import files\n",
        "try:\n",
        "    from dolfin import *; from mshr import *\n",
        "except ImportError as e:\n",
        "    !apt-get install -y -qq software-properties-common python-software-properties module-init-tools\n",
        "    !add-apt-repository -y ppa:fenics-packages/fenics\n",
        "    !apt-get update -qq\n",
        "    !apt install -y --no-install-recommends fenics\n",
        "    from dolfin import *; from mshr import *\n",
        "import matplotlib.pyplot as plt;\n",
        "from IPython.display import clear_output, display; import time; import dolfin.common.plotting as fenicsplot \n",
        "import time\n",
        "\n",
        "import os, sys, shutil\n",
        "\n",
        "dolfin_version = dolfin.__version__\n",
        "print ('dolfin version:', dolfin_version)\n",
        "\n",
        "!rm -rf * # clean up all files\n",
        "# Useful commands\n",
        "# Remove an empty folder      : os.rmdir(\"my_results\")\n",
        "# Remove a folder with files  : shutil.rmtree(\"results\")\n",
        "# Make a folder               : os.mkdir(\"my_results\")"
      ],
      "execution_count": 0,
      "outputs": []
    },
    {
      "metadata": {
        "id": "rn0fu9GTTqtK",
        "colab_type": "code",
        "colab": {}
      },
      "cell_type": "code",
      "source": [
        ""
      ],
      "execution_count": 0,
      "outputs": []
    },
    {
      "metadata": {
        "id": "YeEPxKQAS3MB",
        "colab_type": "text"
      },
      "cell_type": "markdown",
      "source": [
        "Now for some FEniCS code"
      ]
    },
    {
      "metadata": {
        "id": "qhFWUA3DEhQi",
        "colab_type": "code",
        "colab": {}
      },
      "cell_type": "code",
      "source": [
        "\"\"\"\n",
        "FEniCS tutorial demo program: Poisson equation with Dirichlet conditions.\n",
        "Test problem is chosen to give an exact solution at all nodes of the mesh.\n",
        "\n",
        "  -Laplace(u) = f    in the unit square\n",
        "            u = u_D  on the boundary\n",
        "\n",
        "  u_D = 1 + x^2 + 2y^2\n",
        "    f = -6\n",
        "\"\"\"\n",
        "\n",
        "# Original code is available at https://fenicsproject.org/tutorial/\n",
        "\n",
        "\n",
        "from __future__ import print_function\n",
        "from fenics import *\n",
        "\n",
        "# Create mesh and define function space\n",
        "mesh = UnitSquareMesh(20, 20)\n",
        "V = FunctionSpace(mesh, 'CG', 1)\n",
        "\n",
        "# Define boundary condition\n",
        "u_D = Expression('1 + x[0]*x[0] + 2*x[1]*x[1]', degree=2)\n",
        "\n",
        "def boundary(x, on_boundary):\n",
        "    return on_boundary\n",
        "\n",
        "bc = DirichletBC(V, u_D, boundary)\n",
        "\n",
        "# Define variational problem\n",
        "u = TrialFunction(V)\n",
        "v = TestFunction(V)\n",
        "f = Constant(-6.0)\n",
        "a = dot(grad(u), grad(v))*dx\n",
        "L = f*v*dx\n",
        "\n",
        "# Compute solution\n",
        "u = Function(V)\n",
        "solve(a == L, u, bc)\n",
        "\n",
        "# Plot solution and mesh\n",
        "plot(u)\n",
        "plot(mesh)\n",
        "\n",
        "# Save solution to file in VTK format\n",
        "vtkfile = File('solution.pvd')\n",
        "vtkfile << u\n",
        "\n",
        "# Compute error in L2 norm\n",
        "error_L2 = errornorm(u_D, u, 'L2')\n",
        "\n",
        "# Compute maximum error at vertices\n",
        "vertex_values_u_D = u_D.compute_vertex_values(mesh)\n",
        "vertex_values_u = u.compute_vertex_values(mesh)\n",
        "import numpy as np\n",
        "error_max = np.max(np.abs(vertex_values_u_D - vertex_values_u))\n",
        "\n",
        "# Print errors\n",
        "print('error_L2  =', error_L2)\n",
        "print('error_max =', error_max)"
      ],
      "execution_count": 0,
      "outputs": []
    }
  ]
}